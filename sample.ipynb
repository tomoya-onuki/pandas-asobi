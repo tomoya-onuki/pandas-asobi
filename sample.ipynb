{
 "cells": [
  {
   "cell_type": "code",
   "execution_count": 1,
   "metadata": {},
   "outputs": [],
   "source": [
    "import json\n",
    "from datetime import datetime\n",
    "import pandas as pd"
   ]
  },
  {
   "cell_type": "code",
   "execution_count": 4,
   "metadata": {},
   "outputs": [],
   "source": [
    "covers = {\n",
    "    \"VIN01\": [\n",
    "        (\n",
    "            \"trip-01a\",\n",
    "            (\n",
    "                datetime(2024, 1, 1, 0, 0, 0),\n",
    "                datetime(2024, 1, 1, 0, 10, 0),\n",
    "                datetime(2024, 1, 1, 0, 20, 0),\n",
    "                datetime(2024, 1, 1, 0, 30, 0),\n",
    "            ),\n",
    "            \"overrap\",\n",
    "            [\"trip-01a\", \"trip-01b\"],\n",
    "        )\n",
    "    ],\n",
    "    \"VIN02\": [\n",
    "        (\n",
    "            \"trip-02a\",\n",
    "            (\n",
    "                datetime(2024, 1, 1, 0, 0, 0),\n",
    "                datetime(2024, 1, 1, 0, 10, 0)\n",
    "            ),\n",
    "            \"single\",\n",
    "            [\"trip-02b\"]\n",
    "        )\n",
    "    ]\n",
    "}"
   ]
  },
  {
   "cell_type": "code",
   "execution_count": 10,
   "metadata": {},
   "outputs": [],
   "source": [
    "cover_dict_list = []\n",
    "for vin in covers.keys():\n",
    "    cover = covers[vin]\n",
    "\n",
    "    for trip in cover:\n",
    "        state = trip[2]\n",
    "        s_e_pairs = trip[1]\n",
    "        tid_list = trip[3]\n",
    "\n",
    "        cover_dict = {\"vin\": vin}\n",
    "\n",
    "        for i, tid in enumerate(tid_list):\n",
    "            st = s_e_pairs[i * 2].strftime('%Y/%m/%d %H:%M:%S')\n",
    "            et = s_e_pairs[i * 2 + 1].strftime('%Y/%m/%d %H:%M:%S')\n",
    "\n",
    "            cover_dict[f\"trip_id{i}\"] = tid.replace(\"trip-\", f\"{vin}-\")\n",
    "            cover_dict[f\"start_time{i}\"] = st\n",
    "            cover_dict[f\"end_time{i}\"] = et\n",
    "        \n",
    "        cover_dict_list.append(cover_dict)\n",
    "    \n",
    "\n",
    "\n",
    "df = pd.DataFrame(cover_dict_list)\n",
    "df.to_csv(\"sample.csv\")\n"
   ]
  }
 ],
 "metadata": {
  "kernelspec": {
   "display_name": "venv",
   "language": "python",
   "name": "python3"
  },
  "language_info": {
   "codemirror_mode": {
    "name": "ipython",
    "version": 3
   },
   "file_extension": ".py",
   "mimetype": "text/x-python",
   "name": "python",
   "nbconvert_exporter": "python",
   "pygments_lexer": "ipython3",
   "version": "3.11.6"
  }
 },
 "nbformat": 4,
 "nbformat_minor": 2
}
